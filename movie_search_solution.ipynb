{
  "cells": [
    {
      "cell_type": "markdown",
      "metadata": {},
      "source": [
        "# Movie Semantic Search Assignment\n",
        "\n",
        "This notebook demonstrates a semantic search engine for movie plots using `SentenceTransformers` (model: `all-MiniLM-L6-v2`). It loads the dataset, builds embeddings (via the module), and performs a query using cosine similarity.\n"
      ]
    },
    {
      "cell_type": "markdown",
      "metadata": {},
      "source": [
        "# 1) Install and import libraries\n",
        "# Note: Installation is skipped here assuming requirements.txt is used."
      ]
    },
    {
      "cell_type": "code",
      "execution_count": null,
      "metadata": {},
      "outputs": [],
      "source": [
        "import pandas as pd\n",
        "from sentence_transformers import SentenceTransformer\n",
        "from sklearn.metrics.pairwise import cosine_similarity\n",
        "import movie_search as ms\n",
        "\n",
        "print('Libraries imported. Model loaded in module:', hasattr(ms, 'model'))\n"
      ]
    },
    {
      "cell_type": "markdown",
      "metadata": {},
      "source": [
        "# 2) Load dataset"
      ]
    },
    {
      "cell_type": "code",
      "execution_count": null,
      "metadata": {},
      "outputs": [],
      "source": [
        "movies_df = pd.read_csv('movies.csv')\n",
        "movies_df.head()\n"
      ]
    },
    {
      "cell_type": "markdown",
      "metadata": {},
      "source": [
        "# 3) Create embeddings using all-MiniLM-L6-v2\n",
        "# Embeddings are created in movie_search module at import-time for simplicity\n",
        "# You can also compute here if needed:\n",
        "# model = SentenceTransformer('all-MiniLM-L6-v2')\n",
        "# embeddings = model.encode(movies_df['plot'].tolist())\n"
      ]
    },
    {
      "cell_type": "code",
      "execution_count": null,
      "metadata": {},
      "outputs": [],
      "source": [
        "\n",
        "print('Embeddings available in module:', 'embeddings' in dir(ms))\n"
      ]
    },
    {
      "cell_type": "markdown",
      "metadata": {},
      "source": [
        "# 4) Implement search_movies(query, top_n)\n",
        "# Implemented in movie_search.py. We call it here."
      ]
    },
    {
      "cell_type": "code",
      "execution_count": null,
      "metadata": {},
      "outputs": [],
      "source": [
        "\n",
        "from importlib import reload\n",
        "ms = reload(ms)\n",
        "\n",
        "def search_movies(query: str, top_n: int = 5):\n",
        "    return ms.search_movies(query, top_n=top_n)\n",
        "\n",
        "print('search_movies ready.')\n"
      ]
    },
    {
      "cell_type": "markdown",
      "metadata": {},
      "source": [
        "# 5) Test with query 'spy thriller in Paris'\n"
      ]
    },
    {
      "cell_type": "code",
      "execution_count": null,
      "metadata": {},
      "outputs": [],
      "source": [
        "results = search_movies('spy thriller in Paris', top_n=3)\n",
        "results\n"
      ]
    }
  ],
  "metadata": {
    "language_info": {
      "name": "python"
    }
  },
  "nbformat": 4,
  "nbformat_minor": 2
}
